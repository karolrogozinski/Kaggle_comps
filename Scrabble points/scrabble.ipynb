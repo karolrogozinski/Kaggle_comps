{
 "cells": [
  {
   "cell_type": "markdown",
   "metadata": {},
   "source": [
    "# Scrabble points prediction"
   ]
  },
  {
   "cell_type": "code",
   "execution_count": 393,
   "metadata": {},
   "outputs": [],
   "source": [
    "import pandas as pd\n",
    "import numpy as np\n",
    "\n",
    "import matplotlib.pyplot as plt\n",
    "import seaborn as sb\n",
    "\n",
    "from sklearn.model_selection import cross_val_score\n",
    "from sklearn.model_selection import StratifiedKFold\n",
    "from sklearn.preprocessing import MinMaxScaler\n",
    "from sklearn.pipeline import Pipeline\n",
    "\n",
    "import xgboost as xgb\n",
    "\n",
    "from sklearn.feature_extraction.text import CountVectorizer"
   ]
  },
  {
   "cell_type": "markdown",
   "metadata": {},
   "source": [
    "## Read data"
   ]
  },
  {
   "cell_type": "code",
   "execution_count": 394,
   "metadata": {},
   "outputs": [],
   "source": [
    "# basic files\n",
    "\n",
    "turns_train_df = pd.read_csv('turns_train.csv')\n",
    "turns_test_df = pd.read_csv('turns_test.csv')\n",
    "scores_df = pd.read_csv('scores.csv')\n",
    "games_df = pd.read_csv('games.csv')\n",
    "sample_df = pd.read_csv('sample_submission.csv')"
   ]
  },
  {
   "cell_type": "code",
   "execution_count": 395,
   "metadata": {},
   "outputs": [],
   "source": [
    "turns_train_df = turns_train_df.loc[turns_train_df['turn_number'] <= 20]"
   ]
  },
  {
   "cell_type": "code",
   "execution_count": 396,
   "metadata": {},
   "outputs": [],
   "source": [
    "# drop unused columns\n",
    "\n",
    "cols = [\n",
    "    'winner',\n",
    "    'game_duration_seconds',\n",
    "    'game_end_reason',\n",
    "    'created_at',\n",
    "    'first'\n",
    "    ]\n",
    "games_df.drop(columns=cols, inplace=True)"
   ]
  },
  {
   "cell_type": "markdown",
   "metadata": {},
   "source": [
    "## Some NLP transformations to predict racks"
   ]
  },
  {
   "cell_type": "code",
   "execution_count": 397,
   "metadata": {},
   "outputs": [
    {
     "data": {
      "text/plain": [
       "array(['?', 'a', 'b', 'c', 'd', 'e', 'f', 'g', 'h', 'i', 'j', 'k', 'l',\n",
       "       'm', 'n', 'o', 'p', 'q', 'r', 's', 't', 'u', 'v', 'w', 'x', 'y',\n",
       "       'z'], dtype=object)"
      ]
     },
     "execution_count": 397,
     "metadata": {},
     "output_type": "execute_result"
    }
   ],
   "source": [
    "# create count vectorizer to analize racks\n",
    "\n",
    "corpus = [\n",
    "    'Q W E R T Y U I O P A S D F G H J K L Z X C V B N M ?'\n",
    "]\n",
    "vectorizer = CountVectorizer(token_pattern = r\"\\w|\\?\")\n",
    "X = vectorizer.fit_transform(corpus)\n",
    "vectorizer.get_feature_names_out()"
   ]
  },
  {
   "cell_type": "code",
   "execution_count": 399,
   "metadata": {},
   "outputs": [],
   "source": [
    "# concat train and test racks\n",
    "\n",
    "train_rack_df = pd.concat(\n",
    "    [turns_train_df[['rack', 'points']],\n",
    "    turns_test_df.loc[turns_test_df['turn_number'] != 20][['rack', 'points']]],\n",
    "    axis=0)"
   ]
  },
  {
   "cell_type": "code",
   "execution_count": 400,
   "metadata": {},
   "outputs": [],
   "source": [
    "# simple funcion to change racks into letter counters\n",
    "\n",
    "def Rack2Vec(df: pd.DataFrame):\n",
    "    df.loc[:, 'rack'] = df['rack'].map(lambda x: vectorizer.transform([x]).toarray()[0])\n",
    "    \n",
    "    for letter in range(27):\n",
    "        label = f'letter_{vectorizer.get_feature_names_out()[letter]}' \n",
    "        df[label] = df['rack'].str[letter]\n",
    "\n",
    "    return df.drop(columns=['rack'])"
   ]
  },
  {
   "cell_type": "code",
   "execution_count": 401,
   "metadata": {},
   "outputs": [],
   "source": [
    "train_rack_df = Rack2Vec(train_rack_df)"
   ]
  },
  {
   "cell_type": "code",
   "execution_count": 402,
   "metadata": {},
   "outputs": [
    {
     "data": {
      "text/plain": [
       "<AxesSubplot:>"
      ]
     },
     "execution_count": 402,
     "metadata": {},
     "output_type": "execute_result"
    },
    {
     "data": {
      "image/png": "[encoded data removed]",
      "text/plain": [
       "<Figure size 1080x648 with 1 Axes>"
      ]
     },
     "metadata": {
      "needs_background": "light"
     },
     "output_type": "display_data"
    }
   ],
   "source": [
    "# Plot linear letter correlation with gained points\n",
    "\n",
    "plt.figure(figsize=(15, 9))\n",
    "train_rack_df.loc[:, train_rack_df.columns.str.startswith('letter_')].corrwith(train_rack_df['points']).plot(kind='bar')"
   ]
  },
  {
   "cell_type": "code",
   "execution_count": 403,
   "metadata": {},
   "outputs": [],
   "source": [
    "# prepare games racks\n",
    "\n",
    "train = turns_test_df.loc[turns_test_df['turn_number']==20][['game_id', 'rack']]\n",
    "test = turns_train_df.loc[turns_train_df['turn_number']==20][['game_id', 'rack']]\n",
    "\n",
    "final_racks_df = pd.concat([train, test], axis=0)\n",
    "final_racks_df = Rack2Vec(final_racks_df)"
   ]
  },
  {
   "cell_type": "code",
   "execution_count": 404,
   "metadata": {},
   "outputs": [
    {
     "data": {
      "text/plain": [
       "Pipeline(steps=[('scalar', MinMaxScaler()),\n",
       "                ('xgb',\n",
       "                 XGBRegressor(base_score=0.5, booster='gbtree',\n",
       "                              colsample_bylevel=1, colsample_bynode=1,\n",
       "                              colsample_bytree=1, enable_categorical=False,\n",
       "                              gamma=0, gpu_id=-1, importance_type=None,\n",
       "                              interaction_constraints='', learning_rate=0.2,\n",
       "                              max_delta_step=0, max_depth=8, min_child_weight=1,\n",
       "                              missing=nan, monotone_constraints='()',\n",
       "                              n_estimators=200, n_jobs=8, num_parallel_tree=1,\n",
       "                              predictor='auto', random_state=0, reg_alpha=0,\n",
       "                              reg_lambda=1, scale_pos_weight=1, subsample=1,\n",
       "                              tree_method='exact', validate_parameters=1,\n",
       "                              verbosity=None))])"
      ]
     },
     "execution_count": 404,
     "metadata": {},
     "output_type": "execute_result"
    }
   ],
   "source": [
    "# train model to predict gained points based only on current rack\n",
    "\n",
    "model_racks = xgb.XGBRegressor(\n",
    "    learning_rate=0.2,\n",
    "    n_estimators=200,\n",
    "    max_depth=8,\n",
    ")\n",
    "\n",
    "pipe_racks = Pipeline(steps=[\n",
    "    ('scalar', MinMaxScaler()),\n",
    "    ('xgb', model_racks)]\n",
    ")\n",
    "\n",
    "pipe_racks.fit(train_rack_df.drop(columns=['points']), train_rack_df['points'])"
   ]
  },
  {
   "cell_type": "code",
   "execution_count": 405,
   "metadata": {},
   "outputs": [],
   "source": [
    "final_racks_df['pred_rack'] = pipe_racks.predict(final_racks_df.drop(columns='game_id'))\n",
    "final_racks_df = final_racks_df[['game_id', 'pred_rack']]"
   ]
  },
  {
   "cell_type": "markdown",
   "metadata": {},
   "source": [
    "## Final data preparation"
   ]
  },
  {
   "cell_type": "code",
   "execution_count": 406,
   "metadata": {},
   "outputs": [],
   "source": [
    "# merge rack predictions and get some dummies\n",
    "\n",
    "games_df = pd.merge(games_df, final_racks_df, on='game_id')\n",
    "games_df = pd.get_dummies(games_df, columns=['lexicon'])\n",
    "games_df = pd.get_dummies(games_df, columns=['time_control_name'])"
   ]
  },
  {
   "cell_type": "code",
   "execution_count": 407,
   "metadata": {},
   "outputs": [],
   "source": [
    "# encode rating mode\n",
    "\n",
    "rating_mode = {\n",
    "    'RATED': 1,\n",
    "    'CASUAL': 0\n",
    "}\n",
    "\n",
    "games_df['rating_mode'].replace(rating_mode, inplace=True)"
   ]
  },
  {
   "cell_type": "code",
   "execution_count": 408,
   "metadata": {},
   "outputs": [],
   "source": [
    "# get nicknames\n",
    "\n",
    "test = turns_test_df.loc[turns_test_df['turn_number']==2][['game_id', 'nickname']]\n",
    "train = turns_train_df.loc[turns_train_df['turn_number']==2][['game_id', 'nickname']]\n",
    "\n",
    "nicknames_df = pd.concat([train, test], axis=0)\n",
    "nicknames_df.sort_values(by='game_id', inplace=True)"
   ]
  },
  {
   "cell_type": "code",
   "execution_count": null,
   "metadata": {},
   "outputs": [],
   "source": [
    "names = [\n",
    "    'BetterBot',\n",
    "    'Churrrro',\n",
    "    'rcg',\n",
    "    'marvin',\n",
    "    'EMC',\n",
    "    'deathstar'\n",
    "]\n",
    "\n",
    "nicknames_df['nickname'].loc[~nicknames_df['nickname'].isin(names)] = 'Other'"
   ]
  },
  {
   "cell_type": "code",
   "execution_count": 410,
   "metadata": {},
   "outputs": [],
   "source": [
    "# merge nicknames and get dummies\n",
    "\n",
    "games_df = pd.merge(games_df, nicknames_df, on='game_id')\n",
    "games_df = pd.get_dummies(games_df, columns=['nickname'])"
   ]
  },
  {
   "cell_type": "code",
   "execution_count": 412,
   "metadata": {},
   "outputs": [],
   "source": [
    "# split games for train and test samples and get points from each turn\n",
    "\n",
    "train_df = games_df.copy()\n",
    "test_df = games_df.copy()\n",
    "\n",
    "for turn in range(1, 21):\n",
    "    train_df = train_df.merge(\n",
    "        turns_train_df.loc[turns_train_df['turn_number'] == turn][['game_id', 'points']],\n",
    "        on='game_id',\n",
    "        how='left')\n",
    "    test_df = test_df.merge(\n",
    "        turns_test_df.loc[turns_test_df['turn_number'] == turn][['game_id', 'points']],\n",
    "        on='game_id',\n",
    "        how='left')\n",
    "    \n",
    "    train_df.rename(columns={'points': f'points_{turn}'}, inplace=True)\n",
    "    test_df.rename(columns={'points': f'points_{turn}'}, inplace=True)"
   ]
  },
  {
   "cell_type": "code",
   "execution_count": 413,
   "metadata": {},
   "outputs": [],
   "source": [
    "test_df.drop(columns=['points_20'], inplace=True)\n",
    "    \n",
    "train_df = train_df.dropna()\n",
    "test_df = test_df.dropna()"
   ]
  },
  {
   "cell_type": "code",
   "execution_count": 414,
   "metadata": {},
   "outputs": [
    {
     "data": {
      "text/plain": [
       "<AxesSubplot:>"
      ]
     },
     "execution_count": 414,
     "metadata": {},
     "output_type": "execute_result"
    },
    {
     "data": {
      "image/png": "[encoded data removed]",
      "text/plain": [
       "<Figure size 1080x648 with 2 Axes>"
      ]
     },
     "metadata": {
      "needs_background": "light"
     },
     "output_type": "display_data"
    }
   ],
   "source": [
    "# unfortunately there is no correlation so we can drop it later\n",
    "\n",
    "plt.figure(figsize=(15, 9))\n",
    "corr = train_df.loc[:, train_df.columns.str.startswith('points_')].corr()\n",
    "sb.heatmap(corr, cmap='Blues')"
   ]
  },
  {
   "cell_type": "code",
   "execution_count": 415,
   "metadata": {},
   "outputs": [
    {
     "data": {
      "text/plain": [
       "0.0008629748165775754"
      ]
     },
     "execution_count": 415,
     "metadata": {},
     "output_type": "execute_result"
    }
   ],
   "source": [
    "# try sum of points in previous rounds but its also no correlated\n",
    "\n",
    "train_df['sum_19'] = train_df.loc[:, train_df.columns.str.startswith('points_')].drop(columns=['points_20']).sum(axis=1)\n",
    "test_df['sum_19'] = test_df.loc[:, test_df.columns.str.startswith('points_')].sum(axis=1)\n",
    "\n",
    "train_df['sum_19'].corr(train_df['points_20'])"
   ]
  },
  {
   "cell_type": "code",
   "execution_count": 416,
   "metadata": {},
   "outputs": [
    {
     "data": {
      "text/plain": [
       "<AxesSubplot:>"
      ]
     },
     "execution_count": 416,
     "metadata": {},
     "output_type": "execute_result"
    },
    {
     "data": {
      "image/png": "[encoded data removed]",
      "text/plain": [
       "<Figure size 1080x576 with 1 Axes>"
      ]
     },
     "metadata": {
      "needs_background": "light"
     },
     "output_type": "display_data"
    }
   ],
   "source": [
    "# all correlations plotted together\n",
    "\n",
    "plt.figure(figsize=(15, 8))\n",
    "train_df.drop(columns=['points_20']).corrwith(train_df['points_20']).abs().plot(kind='bar')"
   ]
  },
  {
   "cell_type": "markdown",
   "metadata": {},
   "source": [
    "## Final model"
   ]
  },
  {
   "cell_type": "code",
   "execution_count": 421,
   "metadata": {},
   "outputs": [
    {
     "name": "stderr",
     "output_type": "stream",
     "text": [
      "/home/karol/anaconda3/lib/python3.9/site-packages/sklearn/model_selection/_split.py:676: UserWarning: The least populated class in y has only 1 members, which is less than n_splits=5.\n",
      "  warnings.warn(\n"
     ]
    },
    {
     "name": "stdout",
     "output_type": "stream",
     "text": [
      "Mean RMSE: 17.556 (0.302)\n"
     ]
    }
   ],
   "source": [
    "model = xgb.XGBRegressor(\n",
    "    learning_rate=0.05,\n",
    "    n_estimators=100,\n",
    "    max_depth=3,\n",
    "    subsample=0.65\n",
    ")\n",
    "cv = StratifiedKFold(5)\n",
    "\n",
    "pipe = Pipeline(steps=[\n",
    "    ('scalar', MinMaxScaler()),\n",
    "    ('xgb', model)]\n",
    ")\n",
    "\n",
    "scores = cross_val_score(pipe,\n",
    "                         train_df.drop(columns=['points_20', 'game_id']),\n",
    "                         train_df['points_20'],\n",
    "                         scoring='neg_mean_squared_error',\n",
    "                         cv=cv)\n",
    "\n",
    "scores = np.sqrt(np.absolute(scores))\n",
    "print('Mean RMSE: %.3f (%.3f)' % (scores.mean(), scores.std()))"
   ]
  },
  {
   "cell_type": "code",
   "execution_count": 422,
   "metadata": {},
   "outputs": [
    {
     "data": {
      "text/plain": [
       "Pipeline(steps=[('scalar', MinMaxScaler()),\n",
       "                ('xgb',\n",
       "                 XGBRegressor(base_score=0.5, booster='gbtree',\n",
       "                              colsample_bylevel=1, colsample_bynode=1,\n",
       "                              colsample_bytree=1, enable_categorical=False,\n",
       "                              gamma=0, gpu_id=-1, importance_type=None,\n",
       "                              interaction_constraints='', learning_rate=0.05,\n",
       "                              max_delta_step=0, max_depth=3, min_child_weight=1,\n",
       "                              missing=nan, monotone_constraints='()',\n",
       "                              n_estimators=100, n_jobs=8, num_parallel_tree=1,\n",
       "                              predictor='auto', random_state=0, reg_alpha=0,\n",
       "                              reg_lambda=1, scale_pos_weight=1, subsample=0.65,\n",
       "                              tree_method='exact', validate_parameters=1,\n",
       "                              verbosity=None))])"
      ]
     },
     "execution_count": 422,
     "metadata": {},
     "output_type": "execute_result"
    }
   ],
   "source": [
    "pipe.fit(train_df.drop(columns=['points_20', 'game_id']), train_df['points_20'])\n"
   ]
  },
  {
   "cell_type": "code",
   "execution_count": 424,
   "metadata": {},
   "outputs": [],
   "source": [
    "sample_df['points'] = pipe.predict(test_df.drop(columns=['game_id']))\n",
    "sample_df.to_csv('submission.csv', index=False)"
   ]
  }
 ],
 "metadata": {
  "interpreter": {
   "hash": "288c990dbb7931c81cd845cac9f91adafbb3aacecf8618a8e9923bfc90274d04"
  },
  "kernelspec": {
   "display_name": "Python 3.9.7 ('base')",
   "language": "python",
   "name": "python3"
  },
  "language_info": {
   "codemirror_mode": {
    "name": "ipython",
    "version": 3
   },
   "file_extension": ".py",
   "mimetype": "text/x-python",
   "name": "python",
   "nbconvert_exporter": "python",
   "pygments_lexer": "ipython3",
   "version": "3.9.7"
  },
  "orig_nbformat": 4
 },
 "nbformat": 4,
 "nbformat_minor": 2
}
