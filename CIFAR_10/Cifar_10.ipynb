{
 "cells": [
  {
   "cell_type": "code",
   "execution_count": 1,
   "metadata": {},
   "outputs": [
    {
     "name": "stderr",
     "output_type": "stream",
     "text": [
      "2022-03-24 12:10:21.360488: W tensorflow/stream_executor/platform/default/dso_loader.cc:64] Could not load dynamic library 'libcudart.so.11.0'; dlerror: libcudart.so.11.0: cannot open shared object file: No such file or directory\n",
      "2022-03-24 12:10:21.360516: I tensorflow/stream_executor/cuda/cudart_stub.cc:29] Ignore above cudart dlerror if you do not have a GPU set up on your machine.\n"
     ]
    }
   ],
   "source": [
    "import pandas as pd\n",
    "import tensorflow as tf\n",
    "import numpy as np\n",
    "from tensorflow import keras\n",
    "from keras.regularizers import l2\n",
    "from keras.models import Sequential, Model\n",
    "from keras.layers import Conv2D, MaxPool2D, Dense, Dropout, Flatten, UpSampling2D\n",
    "from keras.applications.resnet_v2 import decode_predictions\n",
    "from skimage.transform import resize\n",
    "import matplotlib.pyplot as plt"
   ]
  },
  {
   "cell_type": "markdown",
   "metadata": {},
   "source": [
    "## Load data"
   ]
  },
  {
   "cell_type": "code",
   "execution_count": 2,
   "metadata": {},
   "outputs": [],
   "source": [
    "(X_train, y_train), (X_test, y_test) = tf.keras.datasets.cifar10.load_data()"
   ]
  },
  {
   "cell_type": "code",
   "execution_count": 43,
   "metadata": {},
   "outputs": [
    {
     "data": {
      "text/plain": [
       "<matplotlib.image.AxesImage at 0x7fd5a3e894c0>"
      ]
     },
     "execution_count": 43,
     "metadata": {},
     "output_type": "execute_result"
    },
    {
     "data": {
      "image/png": "[encoded data removed]",
      "text/plain": [
       "<Figure size 432x288 with 1 Axes>"
      ]
     },
     "metadata": {
      "needs_background": "light"
     },
     "output_type": "display_data"
    }
   ],
   "source": [
    "plt.imshow(X_train[0])"
   ]
  },
  {
   "cell_type": "code",
   "execution_count": 4,
   "metadata": {},
   "outputs": [
    {
     "data": {
      "text/plain": [
       "((50000, 32, 32, 3), (10000, 32, 32, 3))"
      ]
     },
     "execution_count": 4,
     "metadata": {},
     "output_type": "execute_result"
    }
   ],
   "source": [
    "X_train.shape, X_test.shape"
   ]
  },
  {
   "cell_type": "code",
   "execution_count": 36,
   "metadata": {},
   "outputs": [],
   "source": [
    "X_train = X_train.astype('float32')/255\n",
    "X_test = X_test.astype('float32')/255\n"
   ]
  },
  {
   "cell_type": "markdown",
   "metadata": {},
   "source": [
    "## Some funcion to plot results"
   ]
  },
  {
   "cell_type": "code",
   "execution_count": 45,
   "metadata": {},
   "outputs": [],
   "source": [
    "def plot_results(history):    \n",
    "    # summarize history for accuracy\n",
    "    plt.figure(figsize=(12, 4))\n",
    "    \n",
    "    plt.subplot(1, 2, 1)\n",
    "    plt.plot(history.history['accuracy'])\n",
    "    plt.plot(history.history['val_accuracy'])\n",
    "    plt.ylabel('accuracy')\n",
    "    plt.xlabel('epoch')\n",
    "    plt.legend(['train', 'val'], loc='upper left')\n",
    "    \n",
    "    # summarize history for loss\n",
    "    plt.subplot(1, 2, 2)\n",
    "    plt.plot(history.history['loss'])\n",
    "    plt.plot(history.history['val_loss'])\n",
    "    plt.ylabel('loss')\n",
    "    plt.xlabel('epoch')\n",
    "    plt.legend(['train', 'val'], loc='upper left')\n",
    "    \n",
    "    plt.tight_layout()\n",
    "    plt.show()"
   ]
  },
  {
   "cell_type": "markdown",
   "metadata": {},
   "source": [
    "## Basic model"
   ]
  },
  {
   "cell_type": "code",
   "execution_count": 106,
   "metadata": {},
   "outputs": [],
   "source": [
    "model = Sequential([\n",
    "    tf.keras.layers.Flatten(input_shape=X_train.shape[1:]),\n",
    "    tf.keras.layers.Dense(128, activation='relu',\n",
    "                          kernel_regularizer=l2(1e-5),\n",
    "                          bias_regularizer=l2(1e-5)),\n",
    "    tf.keras.layers.BatchNormalization(),\n",
    "    tf.keras.layers.Dropout(0.1),\n",
    "    tf.keras.layers.Dense(128, activation='relu',\n",
    "                          kernel_regularizer=l2(1e-5),\n",
    "                          bias_regularizer=l2(1e-5)),\n",
    "    tf.keras.layers.BatchNormalization(),\n",
    "    tf.keras.layers.Dropout(0.1),\n",
    "    tf.keras.layers.Dense(64, activation='relu',\n",
    "                          kernel_regularizer=l2(1e-5),\n",
    "                          bias_regularizer=l2(1e-5)),\n",
    "    tf.keras.layers.BatchNormalization(),\n",
    "    tf.keras.layers.Dropout(0.1),\n",
    "    tf.keras.layers.Dense(10, activation='softmax',\n",
    "                          kernel_regularizer=l2(1e-5),\n",
    "                          bias_regularizer=l2(1e-5)),\n",
    "])\n",
    "\n",
    "model.compile(\n",
    "    optimizer=tf.keras.optimizers.Adam(),\n",
    "    loss=tf.keras.losses.SparseCategoricalCrossentropy(),\n",
    "    metrics=['accuracy']\n",
    ")"
   ]
  },
  {
   "cell_type": "code",
   "execution_count": 107,
   "metadata": {},
   "outputs": [
    {
     "name": "stdout",
     "output_type": "stream",
     "text": [
      "Epoch 1/15\n",
      "391/391 [==============================] - 4s 8ms/step - loss: 1.8444 - accuracy: 0.3493 - val_loss: 1.8313 - val_accuracy: 0.3559\n",
      "Epoch 2/15\n",
      "391/391 [==============================] - 3s 7ms/step - loss: 1.6346 - accuracy: 0.4176 - val_loss: 1.6852 - val_accuracy: 0.3975\n",
      "Epoch 3/15\n",
      "391/391 [==============================] - 3s 7ms/step - loss: 1.5624 - accuracy: 0.4471 - val_loss: 1.5758 - val_accuracy: 0.4400\n",
      "Epoch 4/15\n",
      "391/391 [==============================] - 3s 7ms/step - loss: 1.5274 - accuracy: 0.4565 - val_loss: 1.5235 - val_accuracy: 0.4468\n",
      "Epoch 5/15\n",
      "391/391 [==============================] - 3s 8ms/step - loss: 1.4929 - accuracy: 0.4712 - val_loss: 1.5609 - val_accuracy: 0.4414\n",
      "Epoch 6/15\n",
      "391/391 [==============================] - 3s 7ms/step - loss: 1.4677 - accuracy: 0.4769 - val_loss: 1.6510 - val_accuracy: 0.4179\n",
      "Epoch 7/15\n",
      "391/391 [==============================] - 3s 7ms/step - loss: 1.4455 - accuracy: 0.4850 - val_loss: 1.6692 - val_accuracy: 0.4043\n",
      "Epoch 8/15\n",
      "391/391 [==============================] - 3s 7ms/step - loss: 1.4264 - accuracy: 0.4911 - val_loss: 1.4515 - val_accuracy: 0.4856\n",
      "Epoch 9/15\n",
      "391/391 [==============================] - 3s 8ms/step - loss: 1.4066 - accuracy: 0.5003 - val_loss: 1.4791 - val_accuracy: 0.4751\n",
      "Epoch 10/15\n",
      "391/391 [==============================] - 3s 7ms/step - loss: 1.3925 - accuracy: 0.5051 - val_loss: 1.6270 - val_accuracy: 0.4262\n",
      "Epoch 11/15\n",
      "391/391 [==============================] - 3s 7ms/step - loss: 1.3873 - accuracy: 0.5095 - val_loss: 1.4868 - val_accuracy: 0.4750\n",
      "Epoch 12/15\n",
      "391/391 [==============================] - 3s 7ms/step - loss: 1.3729 - accuracy: 0.5141 - val_loss: 1.5138 - val_accuracy: 0.4673\n",
      "Epoch 13/15\n",
      "391/391 [==============================] - 3s 7ms/step - loss: 1.3603 - accuracy: 0.5184 - val_loss: 1.4661 - val_accuracy: 0.4860\n",
      "Epoch 14/15\n",
      "391/391 [==============================] - 3s 7ms/step - loss: 1.3539 - accuracy: 0.5185 - val_loss: 1.5531 - val_accuracy: 0.4448\n",
      "Epoch 15/15\n",
      "391/391 [==============================] - 3s 7ms/step - loss: 1.3416 - accuracy: 0.5224 - val_loss: 1.4073 - val_accuracy: 0.4998\n"
     ]
    }
   ],
   "source": [
    "history = model.fit(\n",
    "    X_train,\n",
    "    y_train,\n",
    "    epochs=15,\n",
    "    validation_data=(X_test, y_test),\n",
    "    batch_size=128\n",
    ")"
   ]
  },
  {
   "cell_type": "markdown",
   "metadata": {},
   "source": [
    "### Best result was around 50% accuracy on validation data"
   ]
  },
  {
   "cell_type": "code",
   "execution_count": 108,
   "metadata": {},
   "outputs": [
    {
     "data": {
      "image/png": "[encoded data removed]",
      "text/plain": [
       "<Figure size 864x288 with 2 Axes>"
      ]
     },
     "metadata": {
      "needs_background": "light"
     },
     "output_type": "display_data"
    }
   ],
   "source": [
    "plot_results(history)"
   ]
  },
  {
   "cell_type": "markdown",
   "metadata": {},
   "source": [
    "## CNN"
   ]
  },
  {
   "cell_type": "code",
   "execution_count": 111,
   "metadata": {},
   "outputs": [],
   "source": [
    "cnn = Sequential([\n",
    "    tf.keras.layers.Conv2D(input_shape=X_train.shape[1:],\n",
    "                           filters=32,\n",
    "                           kernel_size=(3, 3),\n",
    "                           padding='same',\n",
    "                           activation='relu'),\n",
    "    tf.keras.layers.Conv2D(filters=32,\n",
    "                           kernel_size=(3, 3),\n",
    "                           padding='same',\n",
    "                           activation='relu'),\n",
    "    tf.keras.layers.MaxPool2D(pool_size=(2, 2)),\n",
    "    tf.keras.layers.Dropout(0.2),\n",
    "    \n",
    "    tf.keras.layers.Flatten(),\n",
    "    tf.keras.layers.Dense(128, activation='relu',\n",
    "                          kernel_regularizer=l2(1e-5),\n",
    "                          bias_regularizer=l2(1e-5)),\n",
    "    tf.keras.layers.BatchNormalization(),\n",
    "    tf.keras.layers.Dropout(0.1),\n",
    "    tf.keras.layers.Dense(128, activation='relu',\n",
    "                          kernel_regularizer=l2(1e-5),\n",
    "                          bias_regularizer=l2(1e-5)),\n",
    "    tf.keras.layers.BatchNormalization(),\n",
    "    tf.keras.layers.Dropout(0.1),\n",
    "    tf.keras.layers.Dense(64, activation='relu',\n",
    "                          kernel_regularizer=l2(1e-5),\n",
    "                          bias_regularizer=l2(1e-5)),\n",
    "    tf.keras.layers.BatchNormalization(),\n",
    "    tf.keras.layers.Dropout(0.1),\n",
    "    tf.keras.layers.Dense(10, activation='softmax',\n",
    "                          kernel_regularizer=l2(1e-5),\n",
    "                          bias_regularizer=l2(1e-5))\n",
    "])\n",
    "\n",
    "cnn.compile(\n",
    "    optimizer=tf.keras.optimizers.Adam(),\n",
    "    loss=tf.keras.losses.SparseCategoricalCrossentropy(),\n",
    "    metrics=['accuracy']\n",
    ")"
   ]
  },
  {
   "cell_type": "code",
   "execution_count": 112,
   "metadata": {},
   "outputs": [
    {
     "name": "stdout",
     "output_type": "stream",
     "text": [
      "Epoch 1/15\n",
      "391/391 [==============================] - 49s 122ms/step - loss: 1.5359 - accuracy: 0.4545 - val_loss: 1.2354 - val_accuracy: 0.5560\n",
      "Epoch 2/15\n",
      "391/391 [==============================] - 47s 121ms/step - loss: 1.0877 - accuracy: 0.6169 - val_loss: 1.0198 - val_accuracy: 0.6455\n",
      "Epoch 3/15\n",
      "391/391 [==============================] - 47s 120ms/step - loss: 0.9400 - accuracy: 0.6725 - val_loss: 0.9707 - val_accuracy: 0.6568\n",
      "Epoch 4/15\n",
      "391/391 [==============================] - 47s 121ms/step - loss: 0.8465 - accuracy: 0.7055 - val_loss: 0.9307 - val_accuracy: 0.6809\n",
      "Epoch 5/15\n",
      "391/391 [==============================] - 48s 122ms/step - loss: 0.7815 - accuracy: 0.7318 - val_loss: 0.8892 - val_accuracy: 0.6981\n",
      "Epoch 6/15\n",
      "391/391 [==============================] - 48s 122ms/step - loss: 0.7167 - accuracy: 0.7537 - val_loss: 0.8960 - val_accuracy: 0.6921\n",
      "Epoch 7/15\n",
      "391/391 [==============================] - 49s 126ms/step - loss: 0.6650 - accuracy: 0.7728 - val_loss: 0.9015 - val_accuracy: 0.6990\n",
      "Epoch 8/15\n",
      "391/391 [==============================] - 48s 123ms/step - loss: 0.6123 - accuracy: 0.7925 - val_loss: 0.9396 - val_accuracy: 0.7007\n",
      "Epoch 9/15\n",
      "391/391 [==============================] - 48s 122ms/step - loss: 0.5742 - accuracy: 0.8038 - val_loss: 0.9176 - val_accuracy: 0.7092\n",
      "Epoch 10/15\n",
      "391/391 [==============================] - 48s 122ms/step - loss: 0.5384 - accuracy: 0.8186 - val_loss: 0.9302 - val_accuracy: 0.7009\n",
      "Epoch 11/15\n",
      "391/391 [==============================] - 46s 118ms/step - loss: 0.5009 - accuracy: 0.8321 - val_loss: 0.9916 - val_accuracy: 0.6956\n",
      "Epoch 12/15\n",
      "391/391 [==============================] - 46s 118ms/step - loss: 0.4702 - accuracy: 0.8421 - val_loss: 0.9571 - val_accuracy: 0.7115\n",
      "Epoch 13/15\n",
      "391/391 [==============================] - 46s 119ms/step - loss: 0.4419 - accuracy: 0.8528 - val_loss: 1.0537 - val_accuracy: 0.6937\n",
      "Epoch 14/15\n",
      "391/391 [==============================] - 46s 118ms/step - loss: 0.4216 - accuracy: 0.8622 - val_loss: 0.9874 - val_accuracy: 0.7114\n",
      "Epoch 15/15\n",
      "391/391 [==============================] - 45s 116ms/step - loss: 0.3972 - accuracy: 0.8715 - val_loss: 1.0344 - val_accuracy: 0.7077\n"
     ]
    }
   ],
   "source": [
    "cnn_history = cnn.fit(\n",
    "    X_train,\n",
    "    y_train,\n",
    "    epochs=15,\n",
    "    validation_data=(X_test, y_test),\n",
    "    batch_size=128\n",
    ")"
   ]
  },
  {
   "cell_type": "markdown",
   "metadata": {},
   "source": [
    "### Overfitted but still over 20% accuracy improvement compared to basic model (best epochs more than 71%)"
   ]
  },
  {
   "cell_type": "code",
   "execution_count": 113,
   "metadata": {},
   "outputs": [
    {
     "data": {
      "image/png": "[encoded data removed]",
      "text/plain": [
       "<Figure size 864x288 with 2 Axes>"
      ]
     },
     "metadata": {
      "needs_background": "light"
     },
     "output_type": "display_data"
    }
   ],
   "source": [
    "plot_results(cnn_history)"
   ]
  },
  {
   "cell_type": "markdown",
   "metadata": {},
   "source": [
    "## Transfer Learning"
   ]
  },
  {
   "cell_type": "code",
   "execution_count": 92,
   "metadata": {},
   "outputs": [],
   "source": [
    "(X_train, y_train), (X_test, y_test) = tf.keras.datasets.cifar10.load_data()"
   ]
  },
  {
   "cell_type": "code",
   "execution_count": 93,
   "metadata": {},
   "outputs": [],
   "source": [
    "X_train = tf.keras.applications.resnet_v2.preprocess_input(X_train.astype('float32'))\n",
    "X_test = tf.keras.applications.resnet_v2.preprocess_input(X_test.astype('float32'))"
   ]
  },
  {
   "cell_type": "code",
   "execution_count": 94,
   "metadata": {},
   "outputs": [
    {
     "name": "stderr",
     "output_type": "stream",
     "text": [
      "Clipping input data to the valid range for imshow with RGB data ([0..1] for floats or [0..255] for integers).\n"
     ]
    },
    {
     "data": {
      "text/plain": [
       "<matplotlib.image.AxesImage at 0x7fc98b3ede20>"
      ]
     },
     "execution_count": 94,
     "metadata": {},
     "output_type": "execute_result"
    },
    {
     "data": {
      "image/png": "[encoded data removed]",
      "text/plain": [
       "<Figure size 432x288 with 1 Axes>"
      ]
     },
     "metadata": {
      "needs_background": "light"
     },
     "output_type": "display_data"
    }
   ],
   "source": [
    "plt.imshow(X_train[0])"
   ]
  },
  {
   "cell_type": "code",
   "execution_count": 95,
   "metadata": {},
   "outputs": [],
   "source": [
    "inputs = tf.keras.layers.Input(shape=(32, 32, 3))\n",
    "resized = tf.keras.layers.UpSampling2D(size=(7,7))(inputs)\n",
    "\n",
    "res_net = tf.keras.applications.ResNet152V2(\n",
    "    weights='imagenet',\n",
    "    include_top=False,\n",
    "    input_shape=(224, 224, 3)\n",
    ")(resized)\n",
    "\n",
    "x = tf.keras.layers.GlobalAveragePooling2D()(res_net)\n",
    "x = tf.keras.layers.Flatten()(x)\n",
    "\n",
    "x = tf.keras.layers.Dense(512, activation='relu',\n",
    "                          kernel_regularizer=l2(1e-5),\n",
    "                          bias_regularizer=l2(1e-5))(x),\n",
    "outputs = tf.keras.layers.Dense(10, activation='softmax',\n",
    "                          kernel_regularizer=l2(1e-5),\n",
    "                          bias_regularizer=l2(1e-5))(x[0])"
   ]
  },
  {
   "cell_type": "code",
   "execution_count": 96,
   "metadata": {},
   "outputs": [],
   "source": [
    "trans_model = Model(inputs=inputs, outputs=outputs)\n",
    "trans_model.layers[2].trainable = False"
   ]
  },
  {
   "cell_type": "code",
   "execution_count": 97,
   "metadata": {},
   "outputs": [],
   "source": [
    "trans_model.compile(\n",
    "    optimizer=tf.keras.optimizers.Adam(),\n",
    "    loss=tf.keras.losses.SparseCategoricalCrossentropy(),\n",
    "    metrics=['accuracy']\n",
    ")"
   ]
  },
  {
   "cell_type": "code",
   "execution_count": 98,
   "metadata": {},
   "outputs": [
    {
     "name": "stdout",
     "output_type": "stream",
     "text": [
      "196/196 [==============================] - 6694s 34s/step - loss: 0.3729 - accuracy: 0.8787 - val_loss: 0.3012 - val_accuracy: 0.9012\n"
     ]
    }
   ],
   "source": [
    "trans_history = trans_model.fit(\n",
    "    X_train,\n",
    "    y_train,\n",
    "    epochs=1,\n",
    "    validation_data=(X_test, y_test),\n",
    "    batch_size=256\n",
    ")"
   ]
  },
  {
   "cell_type": "markdown",
   "metadata": {},
   "source": [
    "### Best result with ~90% valid accuracy, sample prediction:"
   ]
  },
  {
   "cell_type": "code",
   "execution_count": 137,
   "metadata": {},
   "outputs": [
    {
     "name": "stdout",
     "output_type": "stream",
     "text": [
      "1/1 [==============================] - 0s 141ms/step\n"
     ]
    },
    {
     "name": "stderr",
     "output_type": "stream",
     "text": [
      "Clipping input data to the valid range for imshow with RGB data ([0..1] for floats or [0..255] for integers).\n"
     ]
    },
    {
     "data": {
      "text/plain": [
       "Text(0.5, 1.0, 'airplane')"
      ]
     },
     "execution_count": 137,
     "metadata": {},
     "output_type": "execute_result"
    },
    {
     "data": {
      "image/png": "[encoded data removed]",
      "text/plain": [
       "<Figure size 432x288 with 1 Axes>"
      ]
     },
     "metadata": {
      "needs_background": "light"
     },
     "output_type": "display_data"
    }
   ],
   "source": [
    "pred = trans_model.predict(X_test[10:11])\n",
    "result = np.where(pred == np.amax(pred))\n",
    "\n",
    "classes = ['airplane', 'automobile', 'bird', 'cat', 'deer', 'dog', 'frog', 'horse', 'ship', 'truck']\n",
    "pred = classes[result[1][0]]\n",
    "\n",
    "plt.imshow(X_test[10])\n",
    "plt.axis('off')\n",
    "plt.title(pred)\n"
   ]
  }
 ],
 "metadata": {
  "interpreter": {
   "hash": "288c990dbb7931c81cd845cac9f91adafbb3aacecf8618a8e9923bfc90274d04"
  },
  "kernelspec": {
   "display_name": "Python 3.9.7 ('base')",
   "language": "python",
   "name": "python3"
  },
  "language_info": {
   "codemirror_mode": {
    "name": "ipython",
    "version": 3
   },
   "file_extension": ".py",
   "mimetype": "text/x-python",
   "name": "python",
   "nbconvert_exporter": "python",
   "pygments_lexer": "ipython3",
   "version": "3.9.7"
  },
  "orig_nbformat": 4
 },
 "nbformat": 4,
 "nbformat_minor": 2
}
